{
  "metadata": {
    "kernelspec": {
      "name": "python",
      "display_name": "Python (Pyodide)",
      "language": "python"
    },
    "language_info": {
      "codemirror_mode": {
        "name": "python",
        "version": 3
      },
      "file_extension": ".py",
      "mimetype": "text/x-python",
      "name": "python",
      "nbconvert_exporter": "python",
      "pygments_lexer": "ipython3",
      "version": "3.8"
    }
  },
  "nbformat_minor": 5,
  "nbformat": 4,
  "cells": [
    {
      "id": "7ff6f234-6364-4d2a-bb60-e6b227aa2000",
      "cell_type": "code",
      "source": "from Crypto.Cipher import AES\nfrom Crypto.Util.Padding import pad, unpad \nfrom Crypto.Random import get_random_bytes\n\n#input string\nplaintext = \"Sabbe Sattta Bhavantu Sukhitatta\"\nkey = b'Prasetioumbusang'\n\n#Conver plaintext ke bytes dan pad ke blok 16 byte\ndata = plaintext.encode('utf-8')\ndata_padddded = pad(data, AES.block_size)\n\n#Enkripsi\ncipher = AES.new(key, AES.MODE_ECB) #Mode_ECB untuk AES dasar\nciphertext = cipher.encrypt(data_padded)\n\n#Deskripsi\ncipher_dec = AES.new(key, AES.MODE_ECB)\ndecrypted = unpad(cipher_dec.decrypt(ciphertext), AES.block_size)\n\nprint(\"Plaintext asli : \", plaintext)\nprint(\"Chiphertext    : \", ciphertext.hex())\nprint(\"Hasil deskripsi :\", decrypted.decode('utf-8'))",
      "metadata": {
        "trusted": true
      },
      "outputs": [
        {
          "name": "stdout",
          "output_type": "stream",
          "text": "Plaintext asli :  Sabbe Sattta Bhavantu Sukhitatta\nChiphertext    :  dff5ea6820c2701052f29afb129dea8c87fc085f14131eb02724ce0da7ffe68bb11ef6a2c89edbcd3ba1613d228ca207\nHasil deskripsi : Sabbe Sattta Bhavantu Sukhitatta\n"
        }
      ],
      "execution_count": 12
    },
    {
      "id": "c92e941e-f747-47b3-b568-69afd82f4f5f",
      "cell_type": "code",
      "source": "",
      "metadata": {
        "trusted": true
      },
      "outputs": [],
      "execution_count": null
    },
    {
      "id": "aa733412-c9a9-4397-9032-453b6739fe05",
      "cell_type": "code",
      "source": "",
      "metadata": {
        "trusted": true
      },
      "outputs": [],
      "execution_count": null
    }
  ]
}